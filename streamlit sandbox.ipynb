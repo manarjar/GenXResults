{
 "cells": [
  {
   "cell_type": "code",
   "execution_count": null,
   "metadata": {},
   "outputs": [],
   "source": [
    "import streamlit as st\n",
    "import pandas as pd\n",
    "import numpy as np\n",
    "import altair as alt"
   ]
  },
  {
   "cell_type": "code",
   "execution_count": null,
   "metadata": {},
   "outputs": [],
   "source": [
    "pd.read_csv(\"results/power_balance.csv\")"
   ]
  },
  {
   "cell_type": "code",
   "execution_count": 47,
   "metadata": {},
   "outputs": [],
   "source": [
    "df_power_balance = pd.read_csv(\"results/power_balance.csv\")\n",
    "df_markets_sales = pd.read_csv(\"results/Market_sales.csv\")\n",
    "df_markets_purchases = pd.read_csv(\"results/Market_purchases.csv\")\n",
    "df_net_market= pd.DataFrame({\"BalanceComponent\":[f\"t{i+1}\" for i in range(0,df_markets_sales.shape[0])]})\n",
    "df_net_market[\"Market_sales\"] = list(df_markets_sales.sum(axis=1))\n",
    "df_net_market[\"Market_sales\"] *= -1\n",
    "df_net_market[\"Market_purshase\"] = df_markets_purchases['Z_1']\n",
    "\n",
    "df_power_balance = df_power_balance.merge(df_net_market, on = \"BalanceComponent\")\n",
    "df_power_balance.drop(columns=['BalanceComponent'], inplace=True)\n",
    "df_power_balance[\"Time\"] = range(1,df_power_balance.shape[0]+1)\n",
    "\n",
    "df_power_balance = df_power_balance[1:24]\n",
    "df_power_balance_melted = df_power_balance.melt(id_vars=['Time'],\n",
    "                                                value_vars=['Generation', 'Storage_Discharge', 'Storage_Charge',\n",
    "                                                'Flexible_Demand_Defer', 'Flexible_Demand_Stasify', 'Demand_Response',\n",
    "                                                'Nonserved_Energy', 'Transmission_NetExport', 'Transmission_Losses',\n",
    "                                                'Demand', 'VRE_Storage_Discharge', 'VRE_Storage_Charge', 'Market_sales',\n",
    "                                                'Market_purshase'], \n",
    "                                                value_name='Value' ,\n",
    "                                                var_name=\"Metric\"      )\n",
    "\n",
    "df_power_balance_melted"
   ]
  },
  {
   "cell_type": "code",
   "execution_count": 49,
   "metadata": {},
   "outputs": [
    {
     "data": {
      "text/html": [
       "\n",
       "<style>\n",
       "  #altair-viz-920a83146e99427a82b0112b53971b42.vega-embed {\n",
       "    width: 100%;\n",
       "    display: flex;\n",
       "  }\n",
       "\n",
       "  #altair-viz-920a83146e99427a82b0112b53971b42.vega-embed details,\n",
       "  #altair-viz-920a83146e99427a82b0112b53971b42.vega-embed details summary {\n",
       "    position: relative;\n",
       "  }\n",
       "</style>\n",
       "<div id=\"altair-viz-920a83146e99427a82b0112b53971b42\"></div>\n",
       "<script type=\"text/javascript\">\n",
       "  var VEGA_DEBUG = (typeof VEGA_DEBUG == \"undefined\") ? {} : VEGA_DEBUG;\n",
       "  (function(spec, embedOpt){\n",
       "    let outputDiv = document.currentScript.previousElementSibling;\n",
       "    if (outputDiv.id !== \"altair-viz-920a83146e99427a82b0112b53971b42\") {\n",
       "      outputDiv = document.getElementById(\"altair-viz-920a83146e99427a82b0112b53971b42\");\n",
       "    }\n",
       "    const paths = {\n",
       "      \"vega\": \"https://cdn.jsdelivr.net/npm/vega@5?noext\",\n",
       "      \"vega-lib\": \"https://cdn.jsdelivr.net/npm/vega-lib?noext\",\n",
       "      \"vega-lite\": \"https://cdn.jsdelivr.net/npm/vega-lite@5.17.0?noext\",\n",
       "      \"vega-embed\": \"https://cdn.jsdelivr.net/npm/vega-embed@6?noext\",\n",
       "    };\n",
       "\n",
       "    function maybeLoadScript(lib, version) {\n",
       "      var key = `${lib.replace(\"-\", \"\")}_version`;\n",
       "      return (VEGA_DEBUG[key] == version) ?\n",
       "        Promise.resolve(paths[lib]) :\n",
       "        new Promise(function(resolve, reject) {\n",
       "          var s = document.createElement('script');\n",
       "          document.getElementsByTagName(\"head\")[0].appendChild(s);\n",
       "          s.async = true;\n",
       "          s.onload = () => {\n",
       "            VEGA_DEBUG[key] = version;\n",
       "            return resolve(paths[lib]);\n",
       "          };\n",
       "          s.onerror = () => reject(`Error loading script: ${paths[lib]}`);\n",
       "          s.src = paths[lib];\n",
       "        });\n",
       "    }\n",
       "\n",
       "    function showError(err) {\n",
       "      outputDiv.innerHTML = `<div class=\"error\" style=\"color:red;\">${err}</div>`;\n",
       "      throw err;\n",
       "    }\n",
       "\n",
       "    function displayChart(vegaEmbed) {\n",
       "      vegaEmbed(outputDiv, spec, embedOpt)\n",
       "        .catch(err => showError(`Javascript Error: ${err.message}<br>This usually means there's a typo in your chart specification. See the javascript console for the full traceback.`));\n",
       "    }\n",
       "\n",
       "    if(typeof define === \"function\" && define.amd) {\n",
       "      requirejs.config({paths});\n",
       "      require([\"vega-embed\"], displayChart, err => showError(`Error loading script: ${err.message}`));\n",
       "    } else {\n",
       "      maybeLoadScript(\"vega\", \"5\")\n",
       "        .then(() => maybeLoadScript(\"vega-lite\", \"5.17.0\"))\n",
       "        .then(() => maybeLoadScript(\"vega-embed\", \"6\"))\n",
       "        .catch(showError)\n",
       "        .then(() => displayChart(vegaEmbed));\n",
       "    }\n",
       "  })({\"config\": {\"view\": {\"continuousWidth\": 300, \"continuousHeight\": 300}}, \"data\": {\"name\": \"data-b50754ecbf6fa0809fbed8b867569c5f\"}, \"mark\": {\"type\": \"bar\"}, \"encoding\": {\"color\": {\"field\": \"Metric\", \"type\": \"nominal\"}, \"x\": {\"field\": \"Time\", \"type\": \"quantitative\"}, \"y\": {\"field\": \"Value\", \"type\": \"quantitative\"}}, \"$schema\": \"https://vega.github.io/schema/vega-lite/v5.17.0.json\", \"datasets\": {\"data-b50754ecbf6fa0809fbed8b867569c5f\": [{\"Time\": 2, \"Metric\": \"Generation\", \"Value\": 194.9657053791598}, {\"Time\": 3, \"Metric\": \"Generation\", \"Value\": 195.47376006544667}, {\"Time\": 4, \"Metric\": \"Generation\", \"Value\": 196.07475166497304}, {\"Time\": 5, \"Metric\": \"Generation\", \"Value\": 196.53943527111613}, {\"Time\": 6, \"Metric\": \"Generation\", \"Value\": 196.7934628995457}, {\"Time\": 7, \"Metric\": \"Generation\", \"Value\": 197.194134995668}, {\"Time\": 8, \"Metric\": \"Generation\", \"Value\": 200.84142886814797}, {\"Time\": 9, \"Metric\": \"Generation\", \"Value\": 210.41320271166643}, {\"Time\": 10, \"Metric\": \"Generation\", \"Value\": 215.59370259313428}, {\"Time\": 11, \"Metric\": \"Generation\", \"Value\": 217.88730456141784}, {\"Time\": 12, \"Metric\": \"Generation\", \"Value\": 219.11552290753616}, {\"Time\": 13, \"Metric\": \"Generation\", \"Value\": 221.4716331188981}, {\"Time\": 14, \"Metric\": \"Generation\", \"Value\": 222.55292981313303}, {\"Time\": 15, \"Metric\": \"Generation\", \"Value\": 221.5363237749266}, {\"Time\": 16, \"Metric\": \"Generation\", \"Value\": 217.14623675226207}, {\"Time\": 17, \"Metric\": \"Generation\", \"Value\": 199.8059758077056}, {\"Time\": 18, \"Metric\": \"Generation\", \"Value\": 196.91118288169065}, {\"Time\": 19, \"Metric\": \"Generation\", \"Value\": 197.0227065819}, {\"Time\": 20, \"Metric\": \"Generation\", \"Value\": 197.07846956171088}, {\"Time\": 21, \"Metric\": \"Generation\", \"Value\": 197.14042706846493}, {\"Time\": 22, \"Metric\": \"Generation\", \"Value\": 197.1652104159777}, {\"Time\": 23, \"Metric\": \"Generation\", \"Value\": 197.1094477430416}, {\"Time\": 24, \"Metric\": \"Generation\", \"Value\": 196.8925957617502}, {\"Time\": 2, \"Metric\": \"Storage_Discharge\", \"Value\": 50.0000007932204}, {\"Time\": 3, \"Metric\": \"Storage_Discharge\", \"Value\": 99.99999582776346}, {\"Time\": 4, \"Metric\": \"Storage_Discharge\", \"Value\": 64.99999978662336}, {\"Time\": 5, \"Metric\": \"Storage_Discharge\", \"Value\": 107.03489629517412}, {\"Time\": 6, \"Metric\": \"Storage_Discharge\", \"Value\": 50.000001570860775}, {\"Time\": 7, \"Metric\": \"Storage_Discharge\", \"Value\": 80.00000011404471}, {\"Time\": 8, \"Metric\": \"Storage_Discharge\", \"Value\": 39.99999924952128}, {\"Time\": 9, \"Metric\": \"Storage_Discharge\", \"Value\": 80.00000035492177}, {\"Time\": 10, \"Metric\": \"Storage_Discharge\", \"Value\": 40.00003271351989}, {\"Time\": 11, \"Metric\": \"Storage_Discharge\", \"Value\": 79.9999998711802}, {\"Time\": 12, \"Metric\": \"Storage_Discharge\", \"Value\": 40.00000048559832}, {\"Time\": 13, \"Metric\": \"Storage_Discharge\", \"Value\": 30.000009800360047}, {\"Time\": 14, \"Metric\": \"Storage_Discharge\", \"Value\": 29.999998433327264}, {\"Time\": 15, \"Metric\": \"Storage_Discharge\", \"Value\": 79.99997688916031}, {\"Time\": 16, \"Metric\": \"Storage_Discharge\", \"Value\": 64.99999958563599}, {\"Time\": 17, \"Metric\": \"Storage_Discharge\", \"Value\": 99.99999889574546}, {\"Time\": 18, \"Metric\": \"Storage_Discharge\", \"Value\": 64.99999963261817}, {\"Time\": 19, \"Metric\": \"Storage_Discharge\", \"Value\": 126.03489644883513}, {\"Time\": 20, \"Metric\": \"Storage_Discharge\", \"Value\": 64.99999998411727}, {\"Time\": 21, \"Metric\": \"Storage_Discharge\", \"Value\": 124.0348976462551}, {\"Time\": 22, \"Metric\": \"Storage_Discharge\", \"Value\": 49.99999940122552}, {\"Time\": 23, \"Metric\": \"Storage_Discharge\", \"Value\": 80.00000017126781}, {\"Time\": 24, \"Metric\": \"Storage_Discharge\", \"Value\": 35.00002308511596}, {\"Time\": 2, \"Metric\": \"Storage_Charge\", \"Value\": -93.38936981926568}, {\"Time\": 3, \"Metric\": \"Storage_Charge\", \"Value\": -76.08207643936714}, {\"Time\": 4, \"Metric\": \"Storage_Charge\", \"Value\": -95.41629456294268}, {\"Time\": 5, \"Metric\": \"Storage_Charge\", \"Value\": -70.50109855660455}, {\"Time\": 6, \"Metric\": \"Storage_Charge\", \"Value\": -87.40252443439061}, {\"Time\": 7, \"Metric\": \"Storage_Charge\", \"Value\": -49.42549110037535}, {\"Time\": 8, \"Metric\": \"Storage_Charge\", \"Value\": -60.43817057134154}, {\"Time\": 9, \"Metric\": \"Storage_Charge\", \"Value\": -42.42952952968168}, {\"Time\": 10, \"Metric\": \"Storage_Charge\", \"Value\": -76.39690863416767}, {\"Time\": 11, \"Metric\": \"Storage_Charge\", \"Value\": -66.5474281451843}, {\"Time\": 12, \"Metric\": \"Storage_Charge\", \"Value\": -108.47076181643988}, {\"Time\": 13, \"Metric\": \"Storage_Charge\", \"Value\": -87.02501852381586}, {\"Time\": 14, \"Metric\": \"Storage_Charge\", \"Value\": -114.88250510519735}, {\"Time\": 15, \"Metric\": \"Storage_Charge\", \"Value\": -87.2659073000146}, {\"Time\": 16, \"Metric\": \"Storage_Charge\", \"Value\": -98.3222933874092}, {\"Time\": 17, \"Metric\": \"Storage_Charge\", \"Value\": -56.39331306371847}, {\"Time\": 18, \"Metric\": \"Storage_Charge\", \"Value\": -66.46188400855375}, {\"Time\": 19, \"Metric\": \"Storage_Charge\", \"Value\": -51.50109893735467}, {\"Time\": 20, \"Metric\": \"Storage_Charge\", \"Value\": -73.45707972882909}, {\"Time\": 21, \"Metric\": \"Storage_Charge\", \"Value\": -53.50109807808511}, {\"Time\": 22, \"Metric\": \"Storage_Charge\", \"Value\": -71.42797494897972}, {\"Time\": 23, \"Metric\": \"Storage_Charge\", \"Value\": -59.41453951496766}, {\"Time\": 24, \"Metric\": \"Storage_Charge\", \"Value\": -87.42277819161575}, {\"Time\": 2, \"Metric\": \"Flexible_Demand_Defer\", \"Value\": 0.0}, {\"Time\": 3, \"Metric\": \"Flexible_Demand_Defer\", \"Value\": 0.0}, {\"Time\": 4, \"Metric\": \"Flexible_Demand_Defer\", \"Value\": 0.0}, {\"Time\": 5, \"Metric\": \"Flexible_Demand_Defer\", \"Value\": 0.0}, {\"Time\": 6, \"Metric\": \"Flexible_Demand_Defer\", \"Value\": 0.0}, {\"Time\": 7, \"Metric\": \"Flexible_Demand_Defer\", \"Value\": 0.0}, {\"Time\": 8, \"Metric\": \"Flexible_Demand_Defer\", \"Value\": 0.0}, {\"Time\": 9, \"Metric\": \"Flexible_Demand_Defer\", \"Value\": 0.0}, {\"Time\": 10, \"Metric\": \"Flexible_Demand_Defer\", \"Value\": 0.0}, {\"Time\": 11, \"Metric\": \"Flexible_Demand_Defer\", \"Value\": 0.0}, {\"Time\": 12, \"Metric\": \"Flexible_Demand_Defer\", \"Value\": 0.0}, {\"Time\": 13, \"Metric\": \"Flexible_Demand_Defer\", \"Value\": 0.0}, {\"Time\": 14, \"Metric\": \"Flexible_Demand_Defer\", \"Value\": 0.0}, {\"Time\": 15, \"Metric\": \"Flexible_Demand_Defer\", \"Value\": 0.0}, {\"Time\": 16, \"Metric\": \"Flexible_Demand_Defer\", \"Value\": 0.0}, {\"Time\": 17, \"Metric\": \"Flexible_Demand_Defer\", \"Value\": 0.0}, {\"Time\": 18, \"Metric\": \"Flexible_Demand_Defer\", \"Value\": 0.0}, {\"Time\": 19, \"Metric\": \"Flexible_Demand_Defer\", \"Value\": 0.0}, {\"Time\": 20, \"Metric\": \"Flexible_Demand_Defer\", \"Value\": 0.0}, {\"Time\": 21, \"Metric\": \"Flexible_Demand_Defer\", \"Value\": 0.0}, {\"Time\": 22, \"Metric\": \"Flexible_Demand_Defer\", \"Value\": 0.0}, {\"Time\": 23, \"Metric\": \"Flexible_Demand_Defer\", \"Value\": 0.0}, {\"Time\": 24, \"Metric\": \"Flexible_Demand_Defer\", \"Value\": 0.0}, {\"Time\": 2, \"Metric\": \"Flexible_Demand_Stasify\", \"Value\": 0.0}, {\"Time\": 3, \"Metric\": \"Flexible_Demand_Stasify\", \"Value\": 0.0}, {\"Time\": 4, \"Metric\": \"Flexible_Demand_Stasify\", \"Value\": 0.0}, {\"Time\": 5, \"Metric\": \"Flexible_Demand_Stasify\", \"Value\": 0.0}, {\"Time\": 6, \"Metric\": \"Flexible_Demand_Stasify\", \"Value\": 0.0}, {\"Time\": 7, \"Metric\": \"Flexible_Demand_Stasify\", \"Value\": 0.0}, {\"Time\": 8, \"Metric\": \"Flexible_Demand_Stasify\", \"Value\": 0.0}, {\"Time\": 9, \"Metric\": \"Flexible_Demand_Stasify\", \"Value\": 0.0}, {\"Time\": 10, \"Metric\": \"Flexible_Demand_Stasify\", \"Value\": 0.0}, {\"Time\": 11, \"Metric\": \"Flexible_Demand_Stasify\", \"Value\": 0.0}, {\"Time\": 12, \"Metric\": \"Flexible_Demand_Stasify\", \"Value\": 0.0}, {\"Time\": 13, \"Metric\": \"Flexible_Demand_Stasify\", \"Value\": 0.0}, {\"Time\": 14, \"Metric\": \"Flexible_Demand_Stasify\", \"Value\": 0.0}, {\"Time\": 15, \"Metric\": \"Flexible_Demand_Stasify\", \"Value\": 0.0}, {\"Time\": 16, \"Metric\": \"Flexible_Demand_Stasify\", \"Value\": 0.0}, {\"Time\": 17, \"Metric\": \"Flexible_Demand_Stasify\", \"Value\": 0.0}, {\"Time\": 18, \"Metric\": \"Flexible_Demand_Stasify\", \"Value\": 0.0}, {\"Time\": 19, \"Metric\": \"Flexible_Demand_Stasify\", \"Value\": 0.0}, {\"Time\": 20, \"Metric\": \"Flexible_Demand_Stasify\", \"Value\": 0.0}, {\"Time\": 21, \"Metric\": \"Flexible_Demand_Stasify\", \"Value\": 0.0}, {\"Time\": 22, \"Metric\": \"Flexible_Demand_Stasify\", \"Value\": 0.0}, {\"Time\": 23, \"Metric\": \"Flexible_Demand_Stasify\", \"Value\": 0.0}, {\"Time\": 24, \"Metric\": \"Flexible_Demand_Stasify\", \"Value\": 0.0}, {\"Time\": 2, \"Metric\": \"Demand_Response\", \"Value\": 0.0}, {\"Time\": 3, \"Metric\": \"Demand_Response\", \"Value\": 0.0}, {\"Time\": 4, \"Metric\": \"Demand_Response\", \"Value\": 0.0}, {\"Time\": 5, \"Metric\": \"Demand_Response\", \"Value\": 0.0}, {\"Time\": 6, \"Metric\": \"Demand_Response\", \"Value\": 0.0}, {\"Time\": 7, \"Metric\": \"Demand_Response\", \"Value\": 0.0}, {\"Time\": 8, \"Metric\": \"Demand_Response\", \"Value\": 0.0}, {\"Time\": 9, \"Metric\": \"Demand_Response\", \"Value\": 0.0}, {\"Time\": 10, \"Metric\": \"Demand_Response\", \"Value\": 0.0}, {\"Time\": 11, \"Metric\": \"Demand_Response\", \"Value\": 0.0}, {\"Time\": 12, \"Metric\": \"Demand_Response\", \"Value\": 0.0}, {\"Time\": 13, \"Metric\": \"Demand_Response\", \"Value\": 0.0}, {\"Time\": 14, \"Metric\": \"Demand_Response\", \"Value\": 0.0}, {\"Time\": 15, \"Metric\": \"Demand_Response\", \"Value\": 0.0}, {\"Time\": 16, \"Metric\": \"Demand_Response\", \"Value\": 0.0}, {\"Time\": 17, \"Metric\": \"Demand_Response\", \"Value\": 0.0}, {\"Time\": 18, \"Metric\": \"Demand_Response\", \"Value\": 0.0}, {\"Time\": 19, \"Metric\": \"Demand_Response\", \"Value\": 0.0}, {\"Time\": 20, \"Metric\": \"Demand_Response\", \"Value\": 0.0}, {\"Time\": 21, \"Metric\": \"Demand_Response\", \"Value\": 0.0}, {\"Time\": 22, \"Metric\": \"Demand_Response\", \"Value\": 0.0}, {\"Time\": 23, \"Metric\": \"Demand_Response\", \"Value\": 0.0}, {\"Time\": 24, \"Metric\": \"Demand_Response\", \"Value\": 0.0}, {\"Time\": 2, \"Metric\": \"Nonserved_Energy\", \"Value\": 4.7252150464050875e-11}, {\"Time\": 3, \"Metric\": \"Nonserved_Energy\", \"Value\": 4.7252149003590395e-11}, {\"Time\": 4, \"Metric\": \"Nonserved_Energy\", \"Value\": 4.725215035307672e-11}, {\"Time\": 5, \"Metric\": \"Nonserved_Energy\", \"Value\": 4.7227296655388e-11}, {\"Time\": 6, \"Metric\": \"Nonserved_Energy\", \"Value\": 4.7252150627795975e-11}, {\"Time\": 7, \"Metric\": \"Nonserved_Energy\", \"Value\": 4.7252150958491314e-11}, {\"Time\": 8, \"Metric\": \"Nonserved_Energy\", \"Value\": 4.7252151355751537e-11}, {\"Time\": 9, \"Metric\": \"Nonserved_Energy\", \"Value\": 4.725215102136359e-11}, {\"Time\": 10, \"Metric\": \"Nonserved_Energy\", \"Value\": 4.725215093701436e-11}, {\"Time\": 11, \"Metric\": \"Nonserved_Energy\", \"Value\": 4.725215044033695e-11}, {\"Time\": 12, \"Metric\": \"Nonserved_Energy\", \"Value\": 4.7252150280328665e-11}, {\"Time\": 13, \"Metric\": \"Nonserved_Energy\", \"Value\": 4.725215074114953e-11}, {\"Time\": 14, \"Metric\": \"Nonserved_Energy\", \"Value\": 4.725215030587413e-11}, {\"Time\": 15, \"Metric\": \"Nonserved_Energy\", \"Value\": 4.725214981524384e-11}, {\"Time\": 16, \"Metric\": \"Nonserved_Energy\", \"Value\": 4.725215019352501e-11}, {\"Time\": 17, \"Metric\": \"Nonserved_Energy\", \"Value\": 4.7252150113271113e-11}, {\"Time\": 18, \"Metric\": \"Nonserved_Energy\", \"Value\": 4.725215101821256e-11}, {\"Time\": 19, \"Metric\": \"Nonserved_Energy\", \"Value\": 4.7213484696586396e-11}, {\"Time\": 20, \"Metric\": \"Nonserved_Energy\", \"Value\": 4.7252150822034637e-11}, {\"Time\": 21, \"Metric\": \"Nonserved_Energy\", \"Value\": 4.720024944950597e-11}, {\"Time\": 22, \"Metric\": \"Nonserved_Energy\", \"Value\": 4.725215082366514e-11}, {\"Time\": 23, \"Metric\": \"Nonserved_Energy\", \"Value\": 4.725215046412483e-11}, {\"Time\": 24, \"Metric\": \"Nonserved_Energy\", \"Value\": 4.725215061093084e-11}, {\"Time\": 2, \"Metric\": \"Transmission_NetExport\", \"Value\": 0.0}, {\"Time\": 3, \"Metric\": \"Transmission_NetExport\", \"Value\": 0.0}, {\"Time\": 4, \"Metric\": \"Transmission_NetExport\", \"Value\": 0.0}, {\"Time\": 5, \"Metric\": \"Transmission_NetExport\", \"Value\": 0.0}, {\"Time\": 6, \"Metric\": \"Transmission_NetExport\", \"Value\": 0.0}, {\"Time\": 7, \"Metric\": \"Transmission_NetExport\", \"Value\": 0.0}, {\"Time\": 8, \"Metric\": \"Transmission_NetExport\", \"Value\": 0.0}, {\"Time\": 9, \"Metric\": \"Transmission_NetExport\", \"Value\": 0.0}, {\"Time\": 10, \"Metric\": \"Transmission_NetExport\", \"Value\": 0.0}, {\"Time\": 11, \"Metric\": \"Transmission_NetExport\", \"Value\": 0.0}, {\"Time\": 12, \"Metric\": \"Transmission_NetExport\", \"Value\": 0.0}, {\"Time\": 13, \"Metric\": \"Transmission_NetExport\", \"Value\": 0.0}, {\"Time\": 14, \"Metric\": \"Transmission_NetExport\", \"Value\": 0.0}, {\"Time\": 15, \"Metric\": \"Transmission_NetExport\", \"Value\": 0.0}, {\"Time\": 16, \"Metric\": \"Transmission_NetExport\", \"Value\": 0.0}, {\"Time\": 17, \"Metric\": \"Transmission_NetExport\", \"Value\": 0.0}, {\"Time\": 18, \"Metric\": \"Transmission_NetExport\", \"Value\": 0.0}, {\"Time\": 19, \"Metric\": \"Transmission_NetExport\", \"Value\": 0.0}, {\"Time\": 20, \"Metric\": \"Transmission_NetExport\", \"Value\": 0.0}, {\"Time\": 21, \"Metric\": \"Transmission_NetExport\", \"Value\": 0.0}, {\"Time\": 22, \"Metric\": \"Transmission_NetExport\", \"Value\": 0.0}, {\"Time\": 23, \"Metric\": \"Transmission_NetExport\", \"Value\": 0.0}, {\"Time\": 24, \"Metric\": \"Transmission_NetExport\", \"Value\": 0.0}, {\"Time\": 2, \"Metric\": \"Transmission_Losses\", \"Value\": 0.0}, {\"Time\": 3, \"Metric\": \"Transmission_Losses\", \"Value\": 0.0}, {\"Time\": 4, \"Metric\": \"Transmission_Losses\", \"Value\": 0.0}, {\"Time\": 5, \"Metric\": \"Transmission_Losses\", \"Value\": 0.0}, {\"Time\": 6, \"Metric\": \"Transmission_Losses\", \"Value\": 0.0}, {\"Time\": 7, \"Metric\": \"Transmission_Losses\", \"Value\": 0.0}, {\"Time\": 8, \"Metric\": \"Transmission_Losses\", \"Value\": 0.0}, {\"Time\": 9, \"Metric\": \"Transmission_Losses\", \"Value\": 0.0}, {\"Time\": 10, \"Metric\": \"Transmission_Losses\", \"Value\": 0.0}, {\"Time\": 11, \"Metric\": \"Transmission_Losses\", \"Value\": 0.0}, {\"Time\": 12, \"Metric\": \"Transmission_Losses\", \"Value\": 0.0}, {\"Time\": 13, \"Metric\": \"Transmission_Losses\", \"Value\": 0.0}, {\"Time\": 14, \"Metric\": \"Transmission_Losses\", \"Value\": 0.0}, {\"Time\": 15, \"Metric\": \"Transmission_Losses\", \"Value\": 0.0}, {\"Time\": 16, \"Metric\": \"Transmission_Losses\", \"Value\": 0.0}, {\"Time\": 17, \"Metric\": \"Transmission_Losses\", \"Value\": 0.0}, {\"Time\": 18, \"Metric\": \"Transmission_Losses\", \"Value\": 0.0}, {\"Time\": 19, \"Metric\": \"Transmission_Losses\", \"Value\": 0.0}, {\"Time\": 20, \"Metric\": \"Transmission_Losses\", \"Value\": 0.0}, {\"Time\": 21, \"Metric\": \"Transmission_Losses\", \"Value\": 0.0}, {\"Time\": 22, \"Metric\": \"Transmission_Losses\", \"Value\": 0.0}, {\"Time\": 23, \"Metric\": \"Transmission_Losses\", \"Value\": 0.0}, {\"Time\": 24, \"Metric\": \"Transmission_Losses\", \"Value\": 0.0}, {\"Time\": 2, \"Metric\": \"Demand\", \"Value\": -81.0}, {\"Time\": 3, \"Metric\": \"Demand\", \"Value\": -78.0}, {\"Time\": 4, \"Metric\": \"Demand\", \"Value\": -79.0}, {\"Time\": 5, \"Metric\": \"Demand\", \"Value\": -82.0}, {\"Time\": 6, \"Metric\": \"Demand\", \"Value\": -87.0}, {\"Time\": 7, \"Metric\": \"Demand\", \"Value\": -105.0}, {\"Time\": 8, \"Metric\": \"Demand\", \"Value\": -114.0}, {\"Time\": 9, \"Metric\": \"Demand\", \"Value\": -112.0}, {\"Time\": 10, \"Metric\": \"Demand\", \"Value\": -107.0}, {\"Time\": 11, \"Metric\": \"Demand\", \"Value\": -93.0}, {\"Time\": 12, \"Metric\": \"Demand\", \"Value\": -79.0}, {\"Time\": 13, \"Metric\": \"Demand\", \"Value\": -76.0}, {\"Time\": 14, \"Metric\": \"Demand\", \"Value\": -76.0}, {\"Time\": 15, \"Metric\": \"Demand\", \"Value\": -77.0}, {\"Time\": 16, \"Metric\": \"Demand\", \"Value\": -88.0}, {\"Time\": 17, \"Metric\": \"Demand\", \"Value\": -98.0}, {\"Time\": 18, \"Metric\": \"Demand\", \"Value\": -108.0}, {\"Time\": 19, \"Metric\": \"Demand\", \"Value\": -101.0}, {\"Time\": 20, \"Metric\": \"Demand\", \"Value\": -101.0}, {\"Time\": 21, \"Metric\": \"Demand\", \"Value\": -99.0}, {\"Time\": 22, \"Metric\": \"Demand\", \"Value\": -103.0}, {\"Time\": 23, \"Metric\": \"Demand\", \"Value\": -95.0}, {\"Time\": 24, \"Metric\": \"Demand\", \"Value\": -87.0}, {\"Time\": 2, \"Metric\": \"VRE_Storage_Discharge\", \"Value\": 63.986824588250286}, {\"Time\": 3, \"Metric\": \"VRE_Storage_Discharge\", \"Value\": 65.0206940921795}, {\"Time\": 4, \"Metric\": \"VRE_Storage_Discharge\", \"Value\": 64.01541804228394}, {\"Time\": 5, \"Metric\": \"VRE_Storage_Discharge\", \"Value\": 64.33145405327045}, {\"Time\": 6, \"Metric\": \"VRE_Storage_Discharge\", \"Value\": 63.992679906822445}, {\"Time\": 7, \"Metric\": \"VRE_Storage_Discharge\", \"Value\": 65.1702625570841}, {\"Time\": 8, \"Metric\": \"VRE_Storage_Discharge\", \"Value\": 64.0086814102757}, {\"Time\": 9, \"Metric\": \"VRE_Storage_Discharge\", \"Value\": 65.17195781097703}, {\"Time\": 10, \"Metric\": \"VRE_Storage_Discharge\", \"Value\": 64.00470559380639}, {\"Time\": 11, \"Metric\": \"VRE_Storage_Discharge\", \"Value\": 65.15792146562741}, {\"Time\": 12, \"Metric\": \"VRE_Storage_Discharge\", \"Value\": 63.98821785024442}, {\"Time\": 13, \"Metric\": \"VRE_Storage_Discharge\", \"Value\": 65.16990644160352}, {\"Time\": 14, \"Metric\": \"VRE_Storage_Discharge\", \"Value\": 63.99061370417829}, {\"Time\": 15, \"Metric\": \"VRE_Storage_Discharge\", \"Value\": 65.14419295934067}, {\"Time\": 16, \"Metric\": \"VRE_Storage_Discharge\", \"Value\": 64.01799147442959}, {\"Time\": 17, \"Metric\": \"VRE_Storage_Discharge\", \"Value\": 65.15617850862883}, {\"Time\": 18, \"Metric\": \"VRE_Storage_Discharge\", \"Value\": 64.03583937379148}, {\"Time\": 19, \"Metric\": \"VRE_Storage_Discharge\", \"Value\": 64.33130210282089}, {\"Time\": 20, \"Metric\": \"VRE_Storage_Discharge\", \"Value\": 64.0336993335938}, {\"Time\": 21, \"Metric\": \"VRE_Storage_Discharge\", \"Value\": 64.33132967378084}, {\"Time\": 22, \"Metric\": \"VRE_Storage_Discharge\", \"Value\": 64.00410849268417}, {\"Time\": 23, \"Metric\": \"VRE_Storage_Discharge\", \"Value\": 65.16547344538148}, {\"Time\": 24, \"Metric\": \"VRE_Storage_Discharge\", \"Value\": 64.00176636637964}, {\"Time\": 2, \"Metric\": \"VRE_Storage_Charge\", \"Value\": -62.0980697138426}, {\"Time\": 3, \"Metric\": \"VRE_Storage_Charge\", \"Value\": -63.43923402822554}, {\"Time\": 4, \"Metric\": \"VRE_Storage_Charge\", \"Value\": -62.06973798112423}, {\"Time\": 5, \"Metric\": \"VRE_Storage_Charge\", \"Value\": -64.3304881726296}, {\"Time\": 6, \"Metric\": \"VRE_Storage_Charge\", \"Value\": -62.090770171973325}, {\"Time\": 7, \"Metric\": \"VRE_Storage_Charge\", \"Value\": -63.24538986564591}, {\"Time\": 8, \"Metric\": \"VRE_Storage_Charge\", \"Value\": -62.07112509972286}, {\"Time\": 9, \"Metric\": \"VRE_Storage_Charge\", \"Value\": -63.24304347807257}, {\"Time\": 10, \"Metric\": \"VRE_Storage_Charge\", \"Value\": -62.07593272671268}, {\"Time\": 11, \"Metric\": \"VRE_Storage_Charge\", \"Value\": -63.26111054294614}, {\"Time\": 12, \"Metric\": \"VRE_Storage_Charge\", \"Value\": -62.09601445623551}, {\"Time\": 13, \"Metric\": \"VRE_Storage_Charge\", \"Value\": -63.245501765239965}, {\"Time\": 14, \"Metric\": \"VRE_Storage_Charge\", \"Value\": -62.09309415869076}, {\"Time\": 15, \"Metric\": \"VRE_Storage_Charge\", \"Value\": -63.2789009445814}, {\"Time\": 16, \"Metric\": \"VRE_Storage_Charge\", \"Value\": -62.06631273230699}, {\"Time\": 17, \"Metric\": \"VRE_Storage_Charge\", \"Value\": -63.26347992489322}, {\"Time\": 18, \"Metric\": \"VRE_Storage_Charge\", \"Value\": -62.044572083590815}, {\"Time\": 19, \"Metric\": \"VRE_Storage_Charge\", \"Value\": -64.33033684113829}, {\"Time\": 20, \"Metric\": \"VRE_Storage_Charge\", \"Value\": -62.04723510938914}, {\"Time\": 21, \"Metric\": \"VRE_Storage_Charge\", \"Value\": -64.33036515744413}, {\"Time\": 22, \"Metric\": \"VRE_Storage_Charge\", \"Value\": -62.07674871342665}, {\"Time\": 23, \"Metric\": \"VRE_Storage_Charge\", \"Value\": -63.25154882088661}, {\"Time\": 24, \"Metric\": \"VRE_Storage_Charge\", \"Value\": -62.07960261834104}, {\"Time\": 2, \"Metric\": \"Market_sales\", \"Value\": -72.46509122066499}, {\"Time\": 3, \"Metric\": \"Market_sales\", \"Value\": -142.97314074720802}, {\"Time\": 4, \"Metric\": \"Market_sales\", \"Value\": -88.60413585298501}, {\"Time\": 5, \"Metric\": \"Market_sales\", \"Value\": -151.074199492595}, {\"Time\": 6, \"Metric\": \"Market_sales\", \"Value\": -74.29284932006499}, {\"Time\": 7, \"Metric\": \"Market_sales\", \"Value\": -124.69351962517304}, {\"Time\": 8, \"Metric\": \"Market_sales\", \"Value\": -68.340812651796}, {\"Time\": 9, \"Metric\": \"Market_sales\", \"Value\": -137.91258708361403}, {\"Time\": 10, \"Metric\": \"Market_sales\", \"Value\": -74.125596595455}, {\"Time\": 11, \"Metric\": \"Market_sales\", \"Value\": -140.23668875533397}, {\"Time\": 12, \"Metric\": \"Market_sales\", \"Value\": -73.536964540795}, {\"Time\": 13, \"Metric\": \"Market_sales\", \"Value\": -90.37102723159099}, {\"Time\": 14, \"Metric\": \"Market_sales\", \"Value\": -63.56794154480099}, {\"Time\": 15, \"Metric\": \"Market_sales\", \"Value\": -139.135685259464}, {\"Time\": 16, \"Metric\": \"Market_sales\", \"Value\": -97.77562073874802}, {\"Time\": 17, \"Metric\": \"Market_sales\", \"Value\": -147.305359704258}, {\"Time\": 18, \"Metric\": \"Market_sales\", \"Value\": -89.44056700686802}, {\"Time\": 19, \"Metric\": \"Market_sales\", \"Value\": -170.55747096380998}, {\"Time\": 20, \"Metric\": \"Market_sales\", \"Value\": -89.60785378009899}, {\"Time\": 21, \"Metric\": \"Market_sales\", \"Value\": -168.675191910541}, {\"Time\": 22, \"Metric\": \"Market_sales\", \"Value\": -74.66459439471599}, {\"Time\": 23, \"Metric\": \"Market_sales\", \"Value\": -124.608832939674}, {\"Time\": 24, \"Metric\": \"Market_sales\", \"Value\": -59.392003300233}, {\"Time\": 2, \"Metric\": \"Market_purshase\", \"Value\": 5.432962088564821e-09}, {\"Time\": 3, \"Metric\": \"Market_purshase\", \"Value\": 5.5135736223787e-09}, {\"Time\": 4, \"Metric\": \"Market_purshase\", \"Value\": 4.8913561529698e-09}, {\"Time\": 5, \"Metric\": \"Market_purshase\", \"Value\": 4.6012694758555194e-09}, {\"Time\": 6, \"Metric\": \"Market_purshase\", \"Value\": 5.355881126652493e-09}, {\"Time\": 7, \"Metric\": \"Market_purshase\", \"Value\": 6.288367734464338e-09}, {\"Time\": 8, \"Metric\": \"Market_purshase\", \"Value\": 6.543296264150117e-09}, {\"Time\": 9, \"Metric\": \"Market_purshase\", \"Value\": 6.077716562610225e-09}, {\"Time\": 10, \"Metric\": \"Market_purshase\", \"Value\": 5.551527124974746e-09}, {\"Time\": 11, \"Metric\": \"Market_purshase\", \"Value\": 6.431791947356016e-09}, {\"Time\": 12, \"Metric\": \"Market_purshase\", \"Value\": 5.9570494553899495e-09}, {\"Time\": 13, \"Metric\": \"Market_purshase\", \"Value\": 1.5318246994236243e-08}, {\"Time\": 14, \"Metric\": \"Market_purshase\", \"Value\": 7.043443585010077e-09}, {\"Time\": 15, \"Metric\": \"Market_purshase\", \"Value\": 6.611659380854181e-09}, {\"Time\": 16, \"Metric\": \"Market_purshase\", \"Value\": 5.984465447655663e-09}, {\"Time\": 17, \"Metric\": \"Market_purshase\", \"Value\": 8.338250030150408e-09}, {\"Time\": 18, \"Metric\": \"Market_purshase\", \"Value\": 4.987253475507858e-09}, {\"Time\": 19, \"Metric\": \"Market_purshase\", \"Value\": 6.8403827401394e-09}, {\"Time\": 20, \"Metric\": \"Market_purshase\", \"Value\": 7.961052574405799e-09}, {\"Time\": 21, \"Metric\": \"Market_purshase\", \"Value\": 4.072111976542286e-09}, {\"Time\": 22, \"Metric\": \"Market_purshase\", \"Value\": 5.521403640563843e-09}, {\"Time\": 23, \"Metric\": \"Market_purshase\", \"Value\": 9.433942319421304e-09}, {\"Time\": 24, \"Metric\": \"Market_purshase\", \"Value\": 6.6796071093725335e-09}]}}, {\"mode\": \"vega-lite\"});\n",
       "</script>"
      ],
      "text/plain": [
       "alt.Chart(...)"
      ]
     },
     "execution_count": 49,
     "metadata": {},
     "output_type": "execute_result"
    }
   ],
   "source": [
    "import altair as alt\n",
    "\n",
    "\n",
    "alt.Chart(df_power_balance_melted).mark_bar().encode(\n",
    "    x='Time',\n",
    "    y='Value',\n",
    "    color='Metric'\n",
    ")"
   ]
  }
 ],
 "metadata": {
  "kernelspec": {
   "display_name": ".venv",
   "language": "python",
   "name": "python3"
  },
  "language_info": {
   "codemirror_mode": {
    "name": "ipython",
    "version": 3
   },
   "file_extension": ".py",
   "mimetype": "text/x-python",
   "name": "python",
   "nbconvert_exporter": "python",
   "pygments_lexer": "ipython3",
   "version": "3.11.3"
  }
 },
 "nbformat": 4,
 "nbformat_minor": 2
}
