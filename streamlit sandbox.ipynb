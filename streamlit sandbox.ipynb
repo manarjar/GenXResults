{
 "cells": [
  {
   "cell_type": "code",
   "execution_count": 3,
   "metadata": {},
   "outputs": [],
   "source": [
    "import streamlit as st\n",
    "import pandas as pd\n",
    "import numpy as np\n",
    "import altair as alt\n",
    "import re\n",
    "from datetime import datetime, timedelta\n",
    "import os\n",
    "import yaml\n",
    "import helpers"
   ]
  },
  {
   "cell_type": "code",
   "execution_count": 4,
   "metadata": {},
   "outputs": [],
   "source": [
    "def read_yaml_file(file_path):\n",
    "    if os.path.isfile(file_path):\n",
    "        # File exists, so read it\n",
    "        try:\n",
    "            settings = yaml.safe_load(file_path)\n",
    "        except Exception as e:\n",
    "            st.markdown(f\"An error occurred while reading file {file_path}: {e}\")\n",
    "    else:\n",
    "        st.markdown(f\"The file {file_path} does not exist.\")      \n",
    "    return settings"
   ]
  },
  {
   "cell_type": "code",
   "execution_count": 8,
   "metadata": {},
   "outputs": [],
   "source": [
    "settings = yaml.safe_load(\"inputs/settings/genx_settings.yml\")"
   ]
  },
  {
   "cell_type": "code",
   "execution_count": 9,
   "metadata": {},
   "outputs": [
    {
     "data": {
      "text/plain": [
       "'inputs/settings/genx_settings.yml'"
      ]
     },
     "execution_count": 9,
     "metadata": {},
     "output_type": "execute_result"
    }
   ],
   "source": [
    "settings"
   ]
  },
  {
   "cell_type": "code",
   "execution_count": 15,
   "metadata": {},
   "outputs": [],
   "source": [
    "import streamlit as st\n",
    "import pandas as pd\n",
    "import numpy as np\n",
    "import altair as alt\n",
    "import re\n",
    "from datetime import datetime, timedelta\n",
    "import os\n",
    "import yaml\n",
    "\n",
    "\n",
    "\n",
    "def read_power():\n",
    "    file_path = \"results/power.csv\"  # Replace with your CSV file path\n",
    "    df_power = pd.DataFrame()\n",
    "    if os.path.isfile(file_path):\n",
    "        # File exists, so read it\n",
    "        try:\n",
    "            df_power = pd.read_csv(file_path)\n",
    "            df_power=df_power.iloc[2:]\n",
    "            df_power.reset_index(drop=True, inplace=True)\n",
    "            df_power = df_power.round(3)\n",
    "        except Exception as e:\n",
    "            st.markdown(f\"An error occurred while reading the file: {e}\")\n",
    "    else:\n",
    "        st.markdown(f\"The file {file_path} does not exist.\")   \n",
    "    \n",
    "    return df_power\n",
    "\n",
    "def read_costs():\n",
    "    file_path = \"results\\costs.csv\"  # Replace with your CSV file path\n",
    "    df_costs = pd.DataFrame()\n",
    "    if os.path.isfile(file_path):\n",
    "        # File exists, so read it\n",
    "        try:\n",
    "            df_costs = pd.read_csv(file_path)\n",
    "            df_costs = df_costs.round(3)\n",
    "        except Exception as e:\n",
    "            st.markdown(f\"An error occurred while reading the file: {e}\")\n",
    "    else:\n",
    "        st.markdown(f\"The file {file_path} does not exist.\")   \n",
    "    \n",
    "    return df_costs\n",
    "\n"
   ]
  },
  {
   "cell_type": "code",
   "execution_count": 29,
   "metadata": {},
   "outputs": [],
   "source": [
    "file_path = \"results\\Fuel_cost_plant.csv\"  # Replace with your CSV file path\n",
    "df_fuel = pd.read_csv(file_path)\n",
    "df_fuel_total_cost = df_fuel.groupby('Fuel')['AnnualSumCosts'].sum().reset_index()"
   ]
  },
  {
   "cell_type": "code",
   "execution_count": 30,
   "metadata": {},
   "outputs": [
    {
     "data": {
      "text/html": [
       "<div>\n",
       "<style scoped>\n",
       "    .dataframe tbody tr th:only-of-type {\n",
       "        vertical-align: middle;\n",
       "    }\n",
       "\n",
       "    .dataframe tbody tr th {\n",
       "        vertical-align: top;\n",
       "    }\n",
       "\n",
       "    .dataframe thead th {\n",
       "        text-align: right;\n",
       "    }\n",
       "</style>\n",
       "<table border=\"1\" class=\"dataframe\">\n",
       "  <thead>\n",
       "    <tr style=\"text-align: right;\">\n",
       "      <th></th>\n",
       "      <th>Fuel</th>\n",
       "      <th>AnnualSumCosts</th>\n",
       "    </tr>\n",
       "  </thead>\n",
       "  <tbody>\n",
       "    <tr>\n",
       "      <th>0</th>\n",
       "      <td>Biomass</td>\n",
       "      <td>0.00000</td>\n",
       "    </tr>\n",
       "    <tr>\n",
       "      <th>1</th>\n",
       "      <td>CA_Natural_Gas</td>\n",
       "      <td>827.32188</td>\n",
       "    </tr>\n",
       "    <tr>\n",
       "      <th>2</th>\n",
       "      <td>Conventional_DR</td>\n",
       "      <td>0.00000</td>\n",
       "    </tr>\n",
       "    <tr>\n",
       "      <th>3</th>\n",
       "      <td>DefaultFuel</td>\n",
       "      <td>0.00000</td>\n",
       "    </tr>\n",
       "    <tr>\n",
       "      <th>4</th>\n",
       "      <td>Geothermal</td>\n",
       "      <td>0.00000</td>\n",
       "    </tr>\n",
       "  </tbody>\n",
       "</table>\n",
       "</div>"
      ],
      "text/plain": [
       "              Fuel  AnnualSumCosts\n",
       "0          Biomass         0.00000\n",
       "1   CA_Natural_Gas       827.32188\n",
       "2  Conventional_DR         0.00000\n",
       "3      DefaultFuel         0.00000\n",
       "4       Geothermal         0.00000"
      ]
     },
     "execution_count": 30,
     "metadata": {},
     "output_type": "execute_result"
    }
   ],
   "source": [
    "df_fuel_total_cost"
   ]
  },
  {
   "cell_type": "markdown",
   "metadata": {},
   "source": []
  },
  {
   "cell_type": "code",
   "execution_count": 3,
   "metadata": {},
   "outputs": [
    {
     "data": {
      "text/html": [
       "<div>\n",
       "<style scoped>\n",
       "    .dataframe tbody tr th:only-of-type {\n",
       "        vertical-align: middle;\n",
       "    }\n",
       "\n",
       "    .dataframe tbody tr th {\n",
       "        vertical-align: top;\n",
       "    }\n",
       "\n",
       "    .dataframe thead th {\n",
       "        text-align: right;\n",
       "    }\n",
       "</style>\n",
       "<table border=\"1\" class=\"dataframe\">\n",
       "  <thead>\n",
       "    <tr style=\"text-align: right;\">\n",
       "      <th></th>\n",
       "      <th>Resource</th>\n",
       "      <th>Revenue</th>\n",
       "      <th>Cost</th>\n",
       "    </tr>\n",
       "  </thead>\n",
       "  <tbody>\n",
       "    <tr>\n",
       "      <th>0</th>\n",
       "      <td>CAISO_Advanced_CCGT_candidate</td>\n",
       "      <td>86.021</td>\n",
       "      <td>744.027</td>\n",
       "    </tr>\n",
       "    <tr>\n",
       "      <th>1</th>\n",
       "      <td>CAISO_Aero_CT_candidate</td>\n",
       "      <td>44.495</td>\n",
       "      <td>585.116</td>\n",
       "    </tr>\n",
       "    <tr>\n",
       "      <th>2</th>\n",
       "      <td>CAISO_Reciprocating_Engine_candidate</td>\n",
       "      <td>89.825</td>\n",
       "      <td>708.196</td>\n",
       "    </tr>\n",
       "    <tr>\n",
       "      <th>3</th>\n",
       "      <td>CAISO_Shed_DR_Tranche1</td>\n",
       "      <td>5.526</td>\n",
       "      <td>262.868</td>\n",
       "    </tr>\n",
       "    <tr>\n",
       "      <th>4</th>\n",
       "      <td>CAM_CAM_RA_i</td>\n",
       "      <td>0.283</td>\n",
       "      <td>7.805</td>\n",
       "    </tr>\n",
       "  </tbody>\n",
       "</table>\n",
       "</div>"
      ],
      "text/plain": [
       "                               Resource  Revenue     Cost\n",
       "0         CAISO_Advanced_CCGT_candidate   86.021  744.027\n",
       "1               CAISO_Aero_CT_candidate   44.495  585.116\n",
       "2  CAISO_Reciprocating_Engine_candidate   89.825  708.196\n",
       "3                CAISO_Shed_DR_Tranche1    5.526  262.868\n",
       "4                          CAM_CAM_RA_i    0.283    7.805"
      ]
     },
     "execution_count": 3,
     "metadata": {},
     "output_type": "execute_result"
    }
   ],
   "source": [
    "import pandas as pd\n",
    "data = {\n",
    "    'Resource': ['CAISO_Advanced_CCGT_candidate', 'CAISO_Aero_CT_candidate', 'CAISO_Reciprocating_Engine_candidate', 'CAISO_Shed_DR_Tranche1', 'CAM_CAM_RA_i'],\n",
    "    'Revenue': [86.0206, 44.49509, 89.8247, 5.525751, 0.282928],\n",
    "    'Cost': [744.027, 585.1162, 708.196, 262.8676, 7.804915]\n",
    "}\n",
    "\n",
    "df = pd.DataFrame(data)\n",
    "\n",
    "# Round all numeric columns to 3 decimal places\n",
    "df = df.round(3)\n",
    "df"
   ]
  },
  {
   "cell_type": "code",
   "execution_count": 6,
   "metadata": {},
   "outputs": [
    {
     "data": {
      "text/plain": [
       "np.float64(0.00314)"
      ]
     },
     "execution_count": 6,
     "metadata": {},
     "output_type": "execute_result"
    }
   ],
   "source": [
    "df_capacity['EndCap']['CAISO_Advanced_CCGT_candidate']"
   ]
  },
  {
   "cell_type": "code",
   "execution_count": null,
   "metadata": {},
   "outputs": [],
   "source": [
    "\n",
    "df_resources = pd.read_csv(\"inputs/resource_list.csv\")\n",
    "\n",
    "selected_type = \"Thermal\"\n",
    "\n",
    "selected_zone = 1\n",
    "resources_list = df_resources[(df_resources.Type == selected_type) & (df_resources.Zone == selected_zone)]\n",
    "\n",
    "df_net_revenue = read_net_revenue().merge(resources_list, on=\"Resource\", how='inner')\n"
   ]
  },
  {
   "cell_type": "code",
   "execution_count": null,
   "metadata": {},
   "outputs": [],
   "source": [
    "df_net_revenue"
   ]
  },
  {
   "cell_type": "code",
   "execution_count": null,
   "metadata": {},
   "outputs": [],
   "source": [
    "\n",
    "df_co2_emissions = read_co2_emissions()\n",
    "df_co2_emissions_melt = df_co2_emissions.melt(\"Time\", var_name=\"Zone\", value_name=\"Co2 emission\")\n",
    " "
   ]
  },
  {
   "cell_type": "code",
   "execution_count": null,
   "metadata": {},
   "outputs": [],
   "source": [
    "df_co2_emissions_melt"
   ]
  },
  {
   "cell_type": "code",
   "execution_count": null,
   "metadata": {},
   "outputs": [],
   "source": [
    "file_path_input = \"inputs\\\\resources\\\\policy_assignments\\\\Resource_maximum_capacity_requirement.csv\"  # Replace with your CSV file path\n",
    "df_resources_maxcapreq_input = pd.read_csv(file_path_input)\n",
    "\n",
    "df_resources_maxcapreq_input.set_index(\"Resource\", inplace= True)\n",
    "df_resources_maxcapreq_input_long = df_resources_maxcapreq_input.reset_index().melt(\n",
    "    id_vars=['Resource'],\n",
    "    var_name='Constraint',\n",
    "    value_name='Constraint_Value'\n",
    ")\n",
    "df_resources_maxcapreq_input_long = df_resources_maxcapreq_input_long[df_resources_maxcapreq_input_long[\"Constraint_Value\"]==1]\n",
    "df_resources_maxcapreq_input_long.reset_index(inplace=True, drop=True)\n",
    "df_resources_maxcapreq_input_long = df_resources_maxcapreq_input_long[[\"Resource\",\"Constraint\"]]\n",
    "df_resources_maxcapreq_input_long['Constraint'] = df_resources_maxcapreq_input_long['Constraint'].str.replace(\"Max_Cap\",\"MaxCapReq\")\n",
    "\n",
    "df_resources_maxcapreq_input_long = df_resources_maxcapreq_input_long.merge(policy_max_cap_req()[[\"Constraint\",\t\"ConstraintDescription\"]], how='left', on= \"Constraint\")\n",
    "df_resources_maxcapreq_input_long = df_resources_maxcapreq_input_long[[\"Resource\", \"ConstraintDescription\"]]\n",
    "df_resources_maxcapreq_input_long.rename(columns={\"ConstraintDescription\": \"Constraint\"}, inplace=True)"
   ]
  },
  {
   "cell_type": "code",
   "execution_count": null,
   "metadata": {},
   "outputs": [],
   "source": [
    "df_resources_maxcapreq_input_long"
   ]
  },
  {
   "cell_type": "code",
   "execution_count": null,
   "metadata": {},
   "outputs": [],
   "source": [
    "def policy_max_cap_req():\n",
    "    file_path_settings = \"inputs\\settings\\genx_settings.yml\"  \n",
    "    df_maxcapreq_input = pd.DataFrame()\n",
    "    df_maxcapreq_results = pd.DataFrame()\n",
    "    \n",
    "    # Open the file and load the YAML content\n",
    "    with open(file_path_settings, 'r') as file:\n",
    "        settings = yaml.safe_load(file)\n",
    "\n",
    "    if 'MaxCapReq' in settings.keys():\n",
    "        file_path_input = \"inputs\\policies\\Maximum_capacity_requirement.csv\"  # Replace with your CSV file path\n",
    "        if os.path.isfile(file_path_input):\n",
    "            # File exists, so read it\n",
    "            try:\n",
    "                df_maxcapreq_input = pd.read_csv(file_path_input)\n",
    "                df_maxcapreq_input.iloc[:,0] = \"MaxCapReq_\"+df_maxcapreq_input.iloc[:,0].astype(str)\n",
    "                df_maxcapreq_input.rename(columns={\"MaxCapReqConstraint\":\"Constraint\"}, inplace = True)\n",
    "            except Exception as e:\n",
    "                st.markdown(f\"An error occurred while reading the file: {e}\")\n",
    "\n",
    "        file_path_results = \"results/MaxCapReq_prices_and_penalties.csv\"  # Replace with your CSV file path\n",
    "        if os.path.isfile(file_path_results):\n",
    "            # File exists, so read it\n",
    "            try:\n",
    "                df_maxcapreq_results = pd.read_csv(file_path_results)\n",
    "                df_maxcapreq_input = df_maxcapreq_input.merge(df_maxcapreq_results, on='Constraint', how='left')\n",
    "            except Exception as e:\n",
    "                st.markdown(f\"An error occurred while reading the file: {e}\")\n",
    "        else:\n",
    "            st.markdown(f\"The file {file_path_results} does not exist.\")\n",
    "        \n",
    "        return df_maxcapreq_input.round(3)"
   ]
  },
  {
   "cell_type": "code",
   "execution_count": null,
   "metadata": {},
   "outputs": [],
   "source": [
    "df_maxcapreq_input.round(3)"
   ]
  },
  {
   "cell_type": "code",
   "execution_count": null,
   "metadata": {},
   "outputs": [],
   "source": [
    "policy_max_cap_req()"
   ]
  },
  {
   "cell_type": "code",
   "execution_count": null,
   "metadata": {},
   "outputs": [],
   "source": [
    "file_path_settings = \"inputs\\settings\\genx_settings.yml\"  \n",
    "df_maxcapreq_input = pd.DataFrame()\n",
    "df_maxcapreq_results = pd.DataFrame()\n",
    "\n",
    "# Open the file and load the YAML content\n",
    "with open(file_path_settings, 'r') as file:\n",
    "    settings = yaml.safe_load(file)\n",
    "\n",
    "if 'MaxCapReq' in settings.keys():\n",
    "    file_path_input = \"inputs\\policies\\Maximum_capacity_requirement.csv\"  # Replace with your CSV file path\n",
    "    df_maxcapreq_input = pd.read_csv(file_path_input)\n",
    "    df_maxcapreq_input.iloc[:,0] = \"MaxCapReq_\"+df_maxcapreq_input.iloc[:,0].astype(str)\n",
    "    df_maxcapreq_input.rename(columns={\"MaxCapReqConstraint\":\"Constraint\"}, inplace = True)\n",
    "\n",
    "\n",
    "    file_path_results = \"results/MaxCapReq_prices_and_penalties.csv\"  # Replace with your CSV file path\n",
    "    df_maxcapreq_results = pd.read_csv(file_path_results)\n",
    "    df_maxcapreq_input = df_maxcapreq_input.merge(df_maxcapreq_results, on='Constraint', how='left')"
   ]
  },
  {
   "cell_type": "code",
   "execution_count": null,
   "metadata": {},
   "outputs": [],
   "source": [
    "df_maxcapreq_results"
   ]
  },
  {
   "cell_type": "code",
   "execution_count": null,
   "metadata": {},
   "outputs": [],
   "source": [
    "df_maxcapreq_input"
   ]
  },
  {
   "cell_type": "code",
   "execution_count": null,
   "metadata": {},
   "outputs": [],
   "source": [
    "file_path_results = \"results/MaxCapReq_prices_and_penalties.csv\"  # Replace with your CSV file path\n",
    "df_maxcapreq_results = pd.read_csv(file_path_results)"
   ]
  },
  {
   "cell_type": "code",
   "execution_count": null,
   "metadata": {},
   "outputs": [],
   "source": [
    "df_maxcapreq_results"
   ]
  },
  {
   "cell_type": "code",
   "execution_count": null,
   "metadata": {},
   "outputs": [],
   "source": [
    "df_maxcapreq_input.iloc[:,0] = \"MaxCapReg_\"+df_maxcapreq_input.iloc[:,0].astype(str)\n",
    "df_maxcapreq_input.rename(columns={\"MaxCapReqConstraint\":\"Constraint\"}, inplace=True)"
   ]
  },
  {
   "cell_type": "code",
   "execution_count": null,
   "metadata": {},
   "outputs": [],
   "source": [
    "file_path_results = \"results/MaxCapReq_prices_and_penalties.csv\"  # Replace with your CSV file path\n",
    "df_maxcapreq_results = pd.read_csv(file_path_results)"
   ]
  },
  {
   "cell_type": "code",
   "execution_count": null,
   "metadata": {},
   "outputs": [],
   "source": [
    "df_maxcapreq_input.merge(df_maxcapreq_results, on='Constraint', how='left')"
   ]
  },
  {
   "cell_type": "code",
   "execution_count": null,
   "metadata": {},
   "outputs": [],
   "source": [
    "df_maxcapreq_input"
   ]
  },
  {
   "cell_type": "code",
   "execution_count": null,
   "metadata": {},
   "outputs": [],
   "source": [
    "\n",
    "\n",
    "    \n",
    "    if os.path.isfile(file_path_results):\n",
    "        # File exists, so read it\n",
    "        try:\n",
    "            \n",
    "            df_maxcapreq_output = df_maxcapreq_output.round({'Price':3, 'Slack':3, 'Penalty':3})\n",
    "        except Exception as e:\n",
    "            st.markdown(f\"An error occurred while reading the file: {e}\")\n",
    "    else:\n",
    "        st.markdown(f\"The file {file_path_results} does not exist.\")"
   ]
  },
  {
   "cell_type": "code",
   "execution_count": null,
   "metadata": {},
   "outputs": [],
   "source": [
    "dict_max_cap_req = dict()\n",
    "\n",
    "file_path = \"inputs\\policies\\Maximum_capacity_requirement.csv\"  # Replace with your CSV file path\n",
    "if os.path.isfile(file_path):\n",
    "    # File exists, so read it\n",
    "    try:\n",
    "        df_max_cap_req = pd.read_csv(file_path)\n",
    "        df_hydro = df_hydro[[\"Resource\",\"Zone\"]]\n",
    "        df_hydro[\"Type\"] = \"Hydro\"\n",
    "        df_resource = pd.concat([df_resource, df_hydro], axis=0)\n",
    "    except Exception as e:\n",
    "        st.markdown(f\"An error occurred while reading the file: {e}\")"
   ]
  },
  {
   "cell_type": "code",
   "execution_count": null,
   "metadata": {},
   "outputs": [],
   "source": [
    "\n",
    "# Creat resource list\n",
    "df_resource = pd.DataFrame(columns=[\"Resource\", \"Type\",\"Zone\"])\n",
    "\n",
    "file_path = \"inputs/resources/Hydro.csv\"  # Replace with your CSV file path\n",
    "if os.path.isfile(file_path):\n",
    "    # File exists, so read it\n",
    "    try:\n",
    "        df_hydro = pd.read_csv(file_path)\n",
    "        df_hydro = df_hydro[[\"Resource\",\"Zone\"]]\n",
    "        df_hydro[\"Type\"] = \"Hydro\"\n",
    "        df_resource = pd.concat([df_resource, df_hydro], axis=0)\n",
    "    except Exception as e:\n",
    "        st.markdown(f\"An error occurred while reading the file: {e}\")\n",
    "\n",
    "file_path = \"inputs/resources/Thermal.csv\"  # Replace with your CSV file path\n",
    "if os.path.isfile(file_path):\n",
    "    # File exists, so read it\n",
    "    try:\n",
    "        df_thermal = pd.read_csv(file_path)\n",
    "        df_thermal = df_thermal[[\"Resource\",\"Zone\"]]\n",
    "        df_thermal[\"Type\"] = \"Thermal\"\n",
    "        df_resource = pd.concat([df_resource, df_thermal], axis=0)\n",
    "    except Exception as e:\n",
    "        st.markdown(f\"An error occurred while reading the file: {e}\")\n",
    "\n",
    "file_path = \"inputs/resources/Vre.csv\"  # Replace with your CSV file path\n",
    "if os.path.isfile(file_path):\n",
    "    # File exists, so read it\n",
    "    try:\n",
    "        df_vre = pd.read_csv(file_path)\n",
    "        df_vre = df_vre[[\"Resource\",\"Zone\"]]\n",
    "        df_vre[\"Type\"] = \"Vre\"\n",
    "        df_resource = pd.concat([df_resource, df_vre], axis=0)\n",
    "    except Exception as e:\n",
    "        st.markdown(f\"An error occurred while reading the file: {e}\")\n",
    "\n",
    "file_path = \"inputs/resources/Storage.csv\"  # Replace with your CSV file path\n",
    "if os.path.isfile(file_path):\n",
    "    # File exists, so read it\n",
    "    try:\n",
    "        df_storage = pd.read_csv(file_path)\n",
    "        df_storage = df_storage[[\"Resource\",\"Zone\"]]\n",
    "        df_storage[\"Type\"] = \"Storage\"\n",
    "        df_resource = pd.concat([df_resource, df_storage], axis=0)\n",
    "\n",
    "    except Exception as e:\n",
    "        st.markdown(f\"An error occurred while reading the file: {e}\")\n",
    "\n",
    "file_path = \"inputs/resources/Flex_demand.csv\"  # Replace with your CSV file path\n",
    "if os.path.isfile(file_path):\n",
    "    # File exists, so read it\n",
    "    try:\n",
    "        df_flex_demand = pd.read_csv(file_path)\n",
    "        df_flex_demand = df_flex_demand[[\"Resource\",\"Zone\"]]\n",
    "        df_flex_demand[\"Type\"] = \"Flex_demand\"\n",
    "        df_resource = pd.concat([df_resource, df_flex_demand], axis=0)\n",
    "    except Exception as e:\n",
    "        st.markdown(f\"An error occurred while reading the file: {e}\")\n",
    "\n",
    "file_path = \"inputs/resources/Must_run.csv\"  # Replace with your CSV file path\n",
    "if os.path.isfile(file_path):\n",
    "    # File exists, so read it\n",
    "    try:\n",
    "        df_must_run = pd.read_csv(file_path)\n",
    "        df_must_run = df_must_run[[\"Resource\",\"Zone\"]]\n",
    "        df_must_run[\"Type\"] = \"Must_run\"\n",
    "        df_resource = pd.concat([df_resource, df_must_run], axis=0)\n",
    "    except Exception as e:\n",
    "        st.markdown(f\"An error occurred while reading the file: {e}\")\n",
    "\n",
    "file_path = \"inputs/resources/Electrolyzer.csv\"  # Replace with your CSV file path\n",
    "if os.path.isfile(file_path):\n",
    "    # File exists, so read it\n",
    "    try:\n",
    "        df_electrolyzer = pd.read_csv(file_path)\n",
    "        df_electrolyzer = df_electrolyzer[[\"Resource\",\"Zone\"]]\n",
    "        df_electrolyzer[\"Type\"] = \"Electrolyzer\"\n",
    "        df_resource = pd.concat([df_resource, df_electrolyzer], axis=0)\n",
    "\n",
    "    except Exception as e:\n",
    "        st.markdown(f\"An error occurred while reading the file: {e}\")\n",
    "\n",
    "file_path = \"inputs/resources/Vre_stor.csv\"  # Replace with your CSV file path\n",
    "if os.path.isfile(file_path):\n",
    "    # File exists, so read it\n",
    "    try:\n",
    "        df_vre_stor = pd.read_csv(file_path)\n",
    "        df_vre_stor = df_vre_stor[[\"Resource\",\"Zone\"]]\n",
    "        df_vre_stor[\"Type\"] = \"Vre_stor\"\n",
    "        df_resource = pd.concat([df_resource, df_vre_stor], axis=0)\n",
    "\n",
    "    except Exception as e:\n",
    "        st.markdown(f\"An error occurred while reading the file: {e}\")\n",
    "\n",
    "df_resource.reset_index(inplace=True, drop=True)\n",
    "df_resource.to_csv(\"inputs/agg_resources.csv\")"
   ]
  },
  {
   "cell_type": "code",
   "execution_count": null,
   "metadata": {},
   "outputs": [],
   "source": [
    "df_co2_penalties = pd.read_csv(\"results/CO2_prices_and_penalties.csv\")\n",
    "df_esr_penalties = pd.read_csv(\"results/ESR_prices_and_penalties.csv\")\n",
    "df_maxcapreq_penalties = pd.read_csv(\"results/MaxCapReq_prices_and_penalties.csv\")\n",
    "\n",
    "df_co2_penalties.round({\"CO2_Price\":5})\n",
    "df_esr_penalties.round({\"ESR_Price\":5, \"ESR_AnnualSlack\":5, \"ESR_AnnualPenalty\": 5})\n",
    "df_maxcapreq_penalties.round({'Price':3, 'Slack':3, 'Penalty':3})\n"
   ]
  },
  {
   "cell_type": "code",
   "execution_count": null,
   "metadata": {},
   "outputs": [],
   "source": [
    "df_maxcapreq_penalties"
   ]
  },
  {
   "cell_type": "code",
   "execution_count": null,
   "metadata": {},
   "outputs": [],
   "source": []
  },
  {
   "cell_type": "code",
   "execution_count": null,
   "metadata": {},
   "outputs": [],
   "source": [
    "df_maxcapreq_penalties"
   ]
  },
  {
   "cell_type": "code",
   "execution_count": null,
   "metadata": {},
   "outputs": [],
   "source": []
  }
 ],
 "metadata": {
  "kernelspec": {
   "display_name": ".venv",
   "language": "python",
   "name": "python3"
  },
  "language_info": {
   "codemirror_mode": {
    "name": "ipython",
    "version": 3
   },
   "file_extension": ".py",
   "mimetype": "text/x-python",
   "name": "python",
   "nbconvert_exporter": "python",
   "pygments_lexer": "ipython3",
   "version": "3.11.3"
  }
 },
 "nbformat": 4,
 "nbformat_minor": 2
}
